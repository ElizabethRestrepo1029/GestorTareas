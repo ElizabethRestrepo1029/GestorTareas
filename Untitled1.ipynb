{
  "nbformat": 4,
  "nbformat_minor": 0,
  "metadata": {
    "colab": {
      "provenance": [],
      "authorship_tag": "ABX9TyMsIr3Ze1W3U9+fAckhzzeQ",
      "include_colab_link": true
    },
    "kernelspec": {
      "name": "python3",
      "display_name": "Python 3"
    },
    "language_info": {
      "name": "python"
    }
  },
  "cells": [
    {
      "cell_type": "markdown",
      "metadata": {
        "id": "view-in-github",
        "colab_type": "text"
      },
      "source": [
        "<a href=\"https://colab.research.google.com/github/ElizabethRestrepo1029/GestorTareas/blob/main/Untitled1.ipynb\" target=\"_parent\"><img src=\"https://colab.research.google.com/assets/colab-badge.svg\" alt=\"Open In Colab\"/></a>"
      ]
    },
    {
      "cell_type": "markdown",
      "source": [
        "**Ejercicios con bucle  while**"
      ],
      "metadata": {
        "id": "e1e1Pih1GNT4"
      }
    },
    {
      "cell_type": "markdown",
      "source": [
        "1.Adivina el número"
      ],
      "metadata": {
        "id": "pkQafZPUFwMS"
      }
    },
    {
      "cell_type": "code",
      "execution_count": 2,
      "metadata": {
        "id": "FU5OC8xeBuFC"
      },
      "outputs": [],
      "source": [
        "# Se importa la función random para generar un número aleatorio\n",
        "import random\n",
        "# se declaran las variables tanto del número aleatorio como el ingresado por el usuario\n",
        "numero_aleatorio= random.randint(1,100)\n",
        "numero_usuario=0\n",
        "# Se crea un ciclo while con la condición mientras el número ingresado sea diferente al número aleatorio\n",
        "while numero_usuario !=numero_aleatorio:\n",
        "    numero_usuario = int(input(\"introduce un número entre 1 y 100\"))\n",
        "# si el número es mayor que el número aleatorio se debe implentar el mensaje \"El número es menor\"\n",
        "    if numero_usuario > numero_aleatorio:\n",
        "          print(\"El número es menor.\")\n",
        "# si el número es menor que el número qleatorio se debe implentar el mensaje \"El número es mayor\"\n",
        "    elif numero_usuario < numero_aleatorio:\n",
        "          print(\"El número es mayor.\")\n",
        "# si el número cumple contodos los criterios se adivino el número aleatorio\n",
        "print(\"¡Felicidades! has adivinado el número\")\n"
      ]
    },
    {
      "cell_type": "markdown",
      "source": [
        "2. Calcular la suma de los números pares del 1 al 100:"
      ],
      "metadata": {
        "id": "PLubksKKFrXa"
      }
    },
    {
      "cell_type": "code",
      "source": [
        "# Se declaran las variables donde suma se inicializa en 0 y número en 1\n",
        "suma = 0\n",
        "numero = 1\n",
        "\n",
        "# se crea un ciclo while el número sea menos o igual a 100\n",
        "while numero <= 100:\n",
        "# si el modulo de la división del número 2 es igual a 0, se le suma el resultado a la variable suma\n",
        "    if numero % 2 == 0:\n",
        "        suma += numero\n",
        "# Se incrementa la variable número con 1\n",
        "    numero += 1\n",
        "# Cuando la variable número sea igual a 100, imprimir un mensaje con la suma de los número peres  del 1 al 100\n",
        "print(\"La suma de los números pares del 1 al 100 es:\", suma)\n"
      ],
      "metadata": {
        "colab": {
          "base_uri": "https://localhost:8080/"
        },
        "id": "IbDIvw26Eze1",
        "outputId": "c2303842-d3df-4ef2-fbf6-d958133f0212"
      },
      "execution_count": 3,
      "outputs": [
        {
          "output_type": "stream",
          "name": "stdout",
          "text": [
            "La suma de los números pares del 1 al 100 es: 2550\n"
          ]
        }
      ]
    },
    {
      "cell_type": "markdown",
      "source": [
        "4. Imprimir los números impares del 1 al 50:"
      ],
      "metadata": {
        "id": "1vnioQbwHnIm"
      }
    },
    {
      "cell_type": "code",
      "source": [
        "# Inicializamos la variable 'numero' con el valor 1\n",
        "numero = 1\n",
        "# Comienza un bucle while que se ejecutará mientras 'numero' sea menor o igual a 50.\n",
        "while numero <= 50:\n",
        "# Verifica si 'numero' es impar (no divisible por 2)\n",
        "    if numero % 2 != 0:\n",
        "# Si 'numero' es impar, imprime su valor\n",
        "        print(numero)\n",
        "# Incrementa el valor de 'numero' en 1 para pasar al siguiente número en la próxima iteración.\n",
        "    numero += 1\n"
      ],
      "metadata": {
        "colab": {
          "base_uri": "https://localhost:8080/"
        },
        "id": "Bm-2lrvfFkYw",
        "outputId": "45c421b8-5a74-4384-c697-8451c2b2d030"
      },
      "execution_count": 4,
      "outputs": [
        {
          "output_type": "stream",
          "name": "stdout",
          "text": [
            "1\n",
            "3\n",
            "5\n",
            "7\n",
            "9\n",
            "11\n",
            "13\n",
            "15\n",
            "17\n",
            "19\n",
            "21\n",
            "23\n",
            "25\n",
            "27\n",
            "29\n",
            "31\n",
            "33\n",
            "35\n",
            "37\n",
            "39\n",
            "41\n",
            "43\n",
            "45\n",
            "47\n",
            "49\n"
          ]
        }
      ]
    },
    {
      "cell_type": "markdown",
      "source": [
        "5. Factorial de un número:"
      ],
      "metadata": {
        "id": "bB9lCuOLIIgi"
      }
    },
    {
      "cell_type": "code",
      "source": [
        "# Solicita al usuario que ingrese un número y lo convierte en un entero.\n",
        "numero = int(input(\"Introduce un número: \"))\n",
        "# Inicializa la variable factorial con el valor 1.\n",
        "factorial = 1\n",
        "\n",
        "# Inicia un bucle while que se ejecutará mientras numero sea mayor que 1\n",
        "while numero > 1:\n",
        "  # Multiplica el valor actual de factorial por el valor actual de numero\n",
        "    factorial *= numero\n",
        "# Disminuye el valor de numero en 1 en cada iteración\n",
        "    numero -= 1\n",
        "# Imprime el resultado del cálculo del factorial\n",
        "print(\"El factorial de\", numero, \"es:\", factorial)\n"
      ],
      "metadata": {
        "colab": {
          "base_uri": "https://localhost:8080/"
        },
        "id": "jzlJHWRlIRZY",
        "outputId": "1f81bfe9-9cc5-4bba-c774-a7df7be9f3b0"
      },
      "execution_count": 5,
      "outputs": [
        {
          "output_type": "stream",
          "name": "stdout",
          "text": [
            "Introduce un número: 21\n",
            "El factorial de 1 es: 51090942171709440000\n"
          ]
        }
      ]
    },
    {
      "cell_type": "markdown",
      "source": [
        "**Ejercicios Bucle for**"
      ],
      "metadata": {
        "id": "qDj2n-FeHKFR"
      }
    },
    {
      "cell_type": "markdown",
      "source": [
        "3. Contar las vocales en una cadena:"
      ],
      "metadata": {
        "id": "-HHQwoDtHTjU"
      }
    },
    {
      "cell_type": "code",
      "source": [
        "# se crea una varable llamada \"cadena\" donde se le indica al usuario que ingrese una palabra\n",
        "cadena = input(\"Introduce una cadena de texto: \")\n",
        "# se crea una variable llamada vocales la cual se inicializa en 0\n",
        "vocales = 0\n",
        "\n",
        "# se crea la variable \"caracter\" la cual representa un conjunto de las vocales\n",
        "for caracter in cadena:\n",
        "# Si el caracter actual es una vocal, se incrementa el contador de 1 en 1\n",
        "    if caracter in \"aeiou\":\n",
        "        vocales += 1\n",
        "# se imprime el total de vocales que tiene la palabra ingresada por el usuario\n",
        "print(\"El número de vocales en la cadena es:\", vocales)\n"
      ],
      "metadata": {
        "colab": {
          "base_uri": "https://localhost:8080/"
        },
        "id": "ouhk9yFwFgzg",
        "outputId": "9735314e-29b3-4f2b-cf76-b135c57b30f2"
      },
      "execution_count": 7,
      "outputs": [
        {
          "output_type": "stream",
          "name": "stdout",
          "text": [
            "Introduce una cadena de texto: restrepo\n",
            "El número de vocales en la cadena es: 3\n"
          ]
        }
      ]
    },
    {
      "cell_type": "markdown",
      "source": [
        "1. Imprimir los números pares del 1 al 100:"
      ],
      "metadata": {
        "id": "zojOiApvIg6S"
      }
    },
    {
      "cell_type": "code",
      "source": [
        "# Recorre cada número par en el rango de 2 a 100\n",
        "for numero in range(2, 101, 2):\n",
        "# Imprime el número par actual\n",
        "    print(numero)\n"
      ],
      "metadata": {
        "colab": {
          "base_uri": "https://localhost:8080/"
        },
        "id": "HGLQBLmwIqUW",
        "outputId": "34b2c15f-112c-4a19-fc93-99e218b70d24"
      },
      "execution_count": 8,
      "outputs": [
        {
          "output_type": "stream",
          "name": "stdout",
          "text": [
            "2\n",
            "4\n",
            "6\n",
            "8\n",
            "10\n",
            "12\n",
            "14\n",
            "16\n",
            "18\n",
            "20\n",
            "22\n",
            "24\n",
            "26\n",
            "28\n",
            "30\n",
            "32\n",
            "34\n",
            "36\n",
            "38\n",
            "40\n",
            "42\n",
            "44\n",
            "46\n",
            "48\n",
            "50\n",
            "52\n",
            "54\n",
            "56\n",
            "58\n",
            "60\n",
            "62\n",
            "64\n",
            "66\n",
            "68\n",
            "70\n",
            "72\n",
            "74\n",
            "76\n",
            "78\n",
            "80\n",
            "82\n",
            "84\n",
            "86\n",
            "88\n",
            "90\n",
            "92\n",
            "94\n",
            "96\n",
            "98\n",
            "100\n"
          ]
        }
      ]
    },
    {
      "cell_type": "markdown",
      "source": [
        "2. Calcular la suma de los cuadrados de los números del 1 al 10:"
      ],
      "metadata": {
        "id": "WLuyS22EIw9T"
      }
    },
    {
      "cell_type": "code",
      "source": [
        "# se declara la variable suma y se incializa en 0\n",
        "suma = 0\n",
        "# Calcula la suma de los cuadrados de los números del 1 al 10\n",
        "for numero in range(1, 11):\n",
        "# Suma el cuadrado del número actual a la variable 'suma'\n",
        "    suma += numero**2\n",
        "# Imprime el resultado de la suma\n",
        "print(\"La suma de los cuadrados de los números del 1 al 10 es:\", suma)\n"
      ],
      "metadata": {
        "colab": {
          "base_uri": "https://localhost:8080/"
        },
        "id": "3TI0_VzPIx-t",
        "outputId": "5b9a5846-7583-42b1-995b-ac0cb9158b3d"
      },
      "execution_count": 9,
      "outputs": [
        {
          "output_type": "stream",
          "name": "stdout",
          "text": [
            "La suma de los cuadrados de los números del 1 al 10 es: 385\n"
          ]
        }
      ]
    },
    {
      "cell_type": "markdown",
      "source": [
        "3. Imprimir una tabla de multiplicar:"
      ],
      "metadata": {
        "id": "SpMEQd9yI45_"
      }
    },
    {
      "cell_type": "code",
      "source": [
        "# se crea la variable en la cual se solicita al usuario ingresar un número\n",
        "numero = int(input(\"Introduce un número: \"))\n",
        "# Se recorre los números del 1 al 10\n",
        "for i in range(1, 11):\n",
        "# se realiza la multiplicación del número ingresado con el rango del 1 al 10 e imprime  el resultado\n",
        "    print(f\"{numero} x {i} = {numero * i}\")\n"
      ],
      "metadata": {
        "colab": {
          "base_uri": "https://localhost:8080/"
        },
        "id": "fAyBtVI5I7rl",
        "outputId": "96ad6984-0e82-4685-9721-ef9ccda63a93"
      },
      "execution_count": 10,
      "outputs": [
        {
          "output_type": "stream",
          "name": "stdout",
          "text": [
            "Introduce un número: 25\n",
            "25 x 1 = 25\n",
            "25 x 2 = 50\n",
            "25 x 3 = 75\n",
            "25 x 4 = 100\n",
            "25 x 5 = 125\n",
            "25 x 6 = 150\n",
            "25 x 7 = 175\n",
            "25 x 8 = 200\n",
            "25 x 9 = 225\n",
            "25 x 10 = 250\n"
          ]
        }
      ]
    },
    {
      "cell_type": "markdown",
      "source": [
        "4. Factorial de un número:"
      ],
      "metadata": {
        "id": "O5u9cytwIzqf"
      }
    },
    {
      "cell_type": "code",
      "source": [
        "# Solicita al usuario que ingrese un número y lo convierte en un entero\n",
        "numero = int(input(\"Introduce un número: \"))\n",
        "# Inicializa la variable factorial con el valor 1\n",
        "factorial = 1\n",
        "# Recorre cada número desde 1 hasta el número ingresado por el usuario\n",
        "for i in range(1, numero + 1):\n",
        "# Multiplica cada número en el rango por el valor actual de factorial\n",
        "    factorial *= i\n",
        "# Imprime el resultado del cálculo del factorial\n",
        "print(\"El factorial de\", numero, \"es:\", factorial)\n"
      ],
      "metadata": {
        "colab": {
          "base_uri": "https://localhost:8080/"
        },
        "id": "3DCUEbzuJImJ",
        "outputId": "3c0291e7-a325-4971-a6d4-1b175874b5d9"
      },
      "execution_count": 11,
      "outputs": [
        {
          "output_type": "stream",
          "name": "stdout",
          "text": [
            "Introduce un número: 18\n",
            "El factorial de 18 es: 6402373705728000\n"
          ]
        }
      ]
    },
    {
      "cell_type": "markdown",
      "source": [
        "5. Contar las letras en una cadena:"
      ],
      "metadata": {
        "id": "miAeulKsJMS7"
      }
    },
    {
      "cell_type": "code",
      "source": [
        "# se crea la variable \"cadena\" y se solicita al usuario ingresar una cadena de texto\n",
        "cadena = input(\"Introduce una cadena: \")\n",
        "# Inicializa la variable 'letras' para contar el número de letras en la cadena\n",
        "letras = 0\n",
        "# Recorre cada caracter en la cadena\n",
        "for caracter in cadena:\n",
        "# Verifica si el caracter actual es una letra utilizando el método isalpha()\n",
        "    if caracter.isalpha():\n",
        "# Si el caracter es una letra, incrementa el contador de letras\n",
        "        letras += 1\n",
        "# Imprime el número de letras encontrado en la cadena\n",
        "print(\"El número de letras en la cadena es:\", letras)\n"
      ],
      "metadata": {
        "colab": {
          "base_uri": "https://localhost:8080/"
        },
        "id": "KHpktUFYJRV2",
        "outputId": "b70aed20-27d3-4bd2-ed1f-87d4f387fdfe"
      },
      "execution_count": 12,
      "outputs": [
        {
          "output_type": "stream",
          "name": "stdout",
          "text": [
            "Introduce una cadena: eliza\n",
            "El número de letras en la cadena es: 5\n"
          ]
        }
      ]
    }
  ]
}